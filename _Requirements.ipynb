{
 "cells": [
  {
   "cell_type": "raw",
   "id": "e8509b61-cd32-41c3-b777-35a90234441c",
   "metadata": {},
   "source": [
    "COVID-19 Visualizer Project Requirements\n",
    "\n",
    "1. Software Requirements\n",
    "- Python 3.9 or higher\n",
    "- Jupyter Notebook / JupyterLab\n",
    "\n",
    "2. Python Libraries\n",
    "Install the following Python packages before running the project:\n",
    "pandas\n",
    "matplotlib\n",
    "seaborn\n",
    "plotly\n",
    "dash\n",
    "jupyter-dash\n",
    "\n",
    "(Install using: pip install -r requirements.txt)\n",
    "\n",
    "3. Dataset Requirements\n",
    "- COVID-19 dataset in CSV format.\n",
    "  Example: Johns Hopkins CSSE COVID-19 Dataset\n",
    "  (time_series_covid19_confirmed_global.csv, time_series_covid19_deaths_global.csv)\n",
    "\n",
    "- Place the dataset in the same folder as the notebook or update file paths accordingly.\n",
    "\n",
    "4. Project Structure\n",
    "- covid_visualizer.ipynb  \n",
    "- data/                 \n",
    "- requirements.txt      \n",
    "\n",
    "5. Features to be Implemented\n",
    "- Data Cleaning & Preprocessing\n",
    "- Static Visualizations (line plots, bar charts, heatmaps)\n",
    "- Interactive Visualizations (plotly, jupyter-dash)\n",
    "- (Optional) Dashboard inside Jupyter with Dash\n",
    "\n",
    "6. Output\n",
    "- Interactive COVID-19 dashboard inside Jupyter Notebook\n"
   ]
  }
 ],
 "metadata": {
  "kernelspec": {
   "display_name": "Python 3 (ipykernel)",
   "language": "python",
   "name": "python3"
  },
  "language_info": {
   "codemirror_mode": {
    "name": "ipython",
    "version": 3
   },
   "file_extension": ".py",
   "mimetype": "text/x-python",
   "name": "python",
   "nbconvert_exporter": "python",
   "pygments_lexer": "ipython3",
   "version": "3.12.4"
  }
 },
 "nbformat": 4,
 "nbformat_minor": 5
}
